{
  "nbformat": 4,
  "nbformat_minor": 0,
  "metadata": {
    "colab": {
      "name": "TensorFlow2.ipynb",
      "provenance": [],
      "authorship_tag": "ABX9TyNoDLvBQQAsiCMHIar6G4lF",
      "include_colab_link": true
    },
    "kernelspec": {
      "name": "python3",
      "display_name": "Python 3"
    },
    "language_info": {
      "name": "python"
    }
  },
  "cells": [
    {
      "cell_type": "markdown",
      "metadata": {
        "id": "view-in-github",
        "colab_type": "text"
      },
      "source": [
        "<a href=\"https://colab.research.google.com/github/Hesham-14/Neural-Network-Projects/blob/main/TensorFlowLibrary.ipynb\" target=\"_parent\"><img src=\"https://colab.research.google.com/assets/colab-badge.svg\" alt=\"Open In Colab\"/></a>"
      ]
    },
    {
      "cell_type": "code",
      "metadata": {
        "id": "XHpXdO_Xl_OP"
      },
      "source": [
        "import tensorflow as tf"
      ],
      "execution_count": null,
      "outputs": []
    },
    {
      "cell_type": "code",
      "metadata": {
        "colab": {
          "base_uri": "https://localhost:8080/"
        },
        "id": "JaP6IjkRmNzw",
        "outputId": "89e9d651-90e9-48b0-9ded-ad361b840e5d"
      },
      "source": [
        "a=2\n",
        "b=3\n",
        "c=tf.add(a,b,name='add')\n",
        "print(c)"
      ],
      "execution_count": null,
      "outputs": [
        {
          "output_type": "stream",
          "name": "stdout",
          "text": [
            "tf.Tensor(5, shape=(), dtype=int32)\n"
          ]
        }
      ]
    },
    {
      "cell_type": "code",
      "metadata": {
        "id": "cQN8AQGFmWE6"
      },
      "source": [
        "sess = tf.compat.v1.Session()\n",
        "print(sess.run(c))\n",
        "sess.close"
      ],
      "execution_count": null,
      "outputs": []
    },
    {
      "cell_type": "code",
      "metadata": {
        "id": "d1p2T_K6nOjl"
      },
      "source": [
        "with tf.compat.v1.Session() as sess:\n",
        "  print(sess.run(c))"
      ],
      "execution_count": null,
      "outputs": []
    },
    {
      "cell_type": "code",
      "metadata": {
        "colab": {
          "base_uri": "https://localhost:8080/"
        },
        "id": "Mwkd10eLnd2v",
        "outputId": "a62bf394-59d9-45c8-d23f-c2185a3ba1b5"
      },
      "source": [
        "import tensorflow as tf\n",
        "x =2\n",
        "y=3\n",
        "add_op = tf.add(x,y,name='adde')\n",
        "mult_op = tf.multiply(x,y,name='multi')\n",
        "pow_op = tf.pow(add_op, mult_op, name='powery')\n",
        "res = tf.multiply(x, pow_op, name='useless')\n",
        "with tf.compat.v1.Session() as sess:\n",
        "  pout = tf.compat.v1.disable_eager_execution()\n",
        "  res_out  = tf.compat.v1.disable_eager_execution()\n",
        "  pout,res_out = sess.run([pow_op,res])\n",
        "  print(pout,res_out)"
      ],
      "execution_count": null,
      "outputs": [
        {
          "output_type": "stream",
          "name": "stdout",
          "text": [
            "15625 31250\n"
          ]
        }
      ]
    }
  ]
}