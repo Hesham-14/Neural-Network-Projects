{
  "nbformat": 4,
  "nbformat_minor": 0,
  "metadata": {
    "colab": {
      "name": "IMDB_movie_reviews.ipynb",
      "provenance": [],
      "mount_file_id": "1nARJAIY5ZlhzB2ipme9M5IOHF9ytmVsL",
      "authorship_tag": "ABX9TyNdzWyn3F2Z9/yeC2H6tG0R",
      "include_colab_link": true
    },
    "kernelspec": {
      "name": "python3",
      "display_name": "Python 3"
    },
    "language_info": {
      "name": "python"
    },
    "accelerator": "GPU"
  },
  "cells": [
    {
      "cell_type": "markdown",
      "metadata": {
        "id": "view-in-github",
        "colab_type": "text"
      },
      "source": [
        "<a href=\"https://colab.research.google.com/github/Hesham-14/Neural-Network-Projects/blob/main/IMDB_movie_reviews.ipynb\" target=\"_parent\"><img src=\"https://colab.research.google.com/assets/colab-badge.svg\" alt=\"Open In Colab\"/></a>"
      ]
    },
    {
      "cell_type": "code",
      "metadata": {
        "id": "Tzq9WUhdXJig"
      },
      "source": [
        "import pandas as pd\n",
        "import numpy as np\n",
        "import re\n",
        "import nltk\n",
        "from nltk.corpus import stopwords\n",
        "\n",
        "from numpy import array\n",
        "from keras.preprocessing.text import one_hot\n",
        "from keras.preprocessing.sequence import pad_sequences\n",
        "from keras.models import Sequential\n",
        "from keras.layers.core import Activation, Dense, Dropout\n",
        "from keras.layers import Flatten\n",
        "from keras.layers import GlobalMaxPool1D\n",
        "from keras.layers.embeddings import Embedding\n",
        "from sklearn.model_selection import train_test_split\n",
        "from keras.preprocessing.text import Tokenizer"
      ],
      "execution_count": 1,
      "outputs": []
    },
    {
      "cell_type": "code",
      "metadata": {
        "colab": {
          "base_uri": "https://localhost:8080/"
        },
        "id": "_lLoSxizZc8k",
        "outputId": "030da9cb-a4dc-4671-e8e2-885ae605b44e"
      },
      "source": [
        "movie_reviews = pd.read_csv(\"/content/drive/MyDrive/IMDB Dataset.csv\")\n",
        "movie_reviews.isnull().values.any()\n",
        "movie_reviews.shape"
      ],
      "execution_count": 2,
      "outputs": [
        {
          "output_type": "execute_result",
          "data": {
            "text/plain": [
              "(50000, 2)"
            ]
          },
          "metadata": {},
          "execution_count": 2
        }
      ]
    },
    {
      "cell_type": "code",
      "metadata": {
        "colab": {
          "base_uri": "https://localhost:8080/",
          "height": 202
        },
        "id": "B0xqoO3Vbute",
        "outputId": "35bcf675-e9ff-42ca-9043-513a2ed6c20f"
      },
      "source": [
        "movie_reviews.head()"
      ],
      "execution_count": 3,
      "outputs": [
        {
          "output_type": "execute_result",
          "data": {
            "text/html": [
              "<div>\n",
              "<style scoped>\n",
              "    .dataframe tbody tr th:only-of-type {\n",
              "        vertical-align: middle;\n",
              "    }\n",
              "\n",
              "    .dataframe tbody tr th {\n",
              "        vertical-align: top;\n",
              "    }\n",
              "\n",
              "    .dataframe thead th {\n",
              "        text-align: right;\n",
              "    }\n",
              "</style>\n",
              "<table border=\"1\" class=\"dataframe\">\n",
              "  <thead>\n",
              "    <tr style=\"text-align: right;\">\n",
              "      <th></th>\n",
              "      <th>review</th>\n",
              "      <th>sentiment</th>\n",
              "    </tr>\n",
              "  </thead>\n",
              "  <tbody>\n",
              "    <tr>\n",
              "      <th>0</th>\n",
              "      <td>One of the other reviewers has mentioned that ...</td>\n",
              "      <td>positive</td>\n",
              "    </tr>\n",
              "    <tr>\n",
              "      <th>1</th>\n",
              "      <td>A wonderful little production. &lt;br /&gt;&lt;br /&gt;The...</td>\n",
              "      <td>positive</td>\n",
              "    </tr>\n",
              "    <tr>\n",
              "      <th>2</th>\n",
              "      <td>I thought this was a wonderful way to spend ti...</td>\n",
              "      <td>positive</td>\n",
              "    </tr>\n",
              "    <tr>\n",
              "      <th>3</th>\n",
              "      <td>Basically there's a family where a little boy ...</td>\n",
              "      <td>negative</td>\n",
              "    </tr>\n",
              "    <tr>\n",
              "      <th>4</th>\n",
              "      <td>Petter Mattei's \"Love in the Time of Money\" is...</td>\n",
              "      <td>positive</td>\n",
              "    </tr>\n",
              "  </tbody>\n",
              "</table>\n",
              "</div>"
            ],
            "text/plain": [
              "                                              review sentiment\n",
              "0  One of the other reviewers has mentioned that ...  positive\n",
              "1  A wonderful little production. <br /><br />The...  positive\n",
              "2  I thought this was a wonderful way to spend ti...  positive\n",
              "3  Basically there's a family where a little boy ...  negative\n",
              "4  Petter Mattei's \"Love in the Time of Money\" is...  positive"
            ]
          },
          "metadata": {},
          "execution_count": 3
        }
      ]
    },
    {
      "cell_type": "code",
      "metadata": {
        "colab": {
          "base_uri": "https://localhost:8080/",
          "height": 124
        },
        "id": "rTUiTTpKb1DX",
        "outputId": "2b507661-c1bf-48c9-ceca-675d0b6a6cdb"
      },
      "source": [
        "movie_reviews[\"review\"][4]"
      ],
      "execution_count": 4,
      "outputs": [
        {
          "output_type": "execute_result",
          "data": {
            "application/vnd.google.colaboratory.intrinsic+json": {
              "type": "string"
            },
            "text/plain": [
              "'Petter Mattei\\'s \"Love in the Time of Money\" is a visually stunning film to watch. Mr. Mattei offers us a vivid portrait about human relations. This is a movie that seems to be telling us what money, power and success do to people in the different situations we encounter. <br /><br />This being a variation on the Arthur Schnitzler\\'s play about the same theme, the director transfers the action to the present time New York where all these different characters meet and connect. Each one is connected in one way, or another to the next person, but no one seems to know the previous point of contact. Stylishly, the film has a sophisticated luxurious look. We are taken to see how these people live and the world they live in their own habitat.<br /><br />The only thing one gets out of all these souls in the picture is the different stages of loneliness each one inhabits. A big city is not exactly the best place in which human relations find sincere fulfillment, as one discerns is the case with most of the people we encounter.<br /><br />The acting is good under Mr. Mattei\\'s direction. Steve Buscemi, Rosario Dawson, Carol Kane, Michael Imperioli, Adrian Grenier, and the rest of the talented cast, make these characters come alive.<br /><br />We wish Mr. Mattei good luck and await anxiously for his next work.'"
            ]
          },
          "metadata": {},
          "execution_count": 4
        }
      ]
    },
    {
      "cell_type": "code",
      "metadata": {
        "colab": {
          "base_uri": "https://localhost:8080/",
          "height": 296
        },
        "id": "zxUTRn6acBQ0",
        "outputId": "f09847d1-50ea-4a3c-e8d2-127be6f4b389"
      },
      "source": [
        "import seaborn as s\n",
        "\n",
        "s.countplot(x='sentiment', data=movie_reviews)"
      ],
      "execution_count": 5,
      "outputs": [
        {
          "output_type": "execute_result",
          "data": {
            "text/plain": [
              "<matplotlib.axes._subplots.AxesSubplot at 0x7f1c9a253e50>"
            ]
          },
          "metadata": {},
          "execution_count": 5
        },
        {
          "output_type": "display_data",
          "data": {
            "image/png": "[encoded data removed]",
            "text/plain": [
              "<Figure size 432x288 with 1 Axes>"
            ]
          },
          "metadata": {
            "needs_background": "light"
          }
        }
      ]
    },
    {
      "cell_type": "code",
      "metadata": {
        "id": "YyvRwjLnchDM"
      },
      "source": [
        "# Removing numeric and empty texts\n",
        "\n",
        "TEG_RE = re.compile(r'<[^>]+>')\n",
        "def remove_tags(text):\n",
        "  return TEG_RE.sub('', text)\n",
        "\n",
        "def preprocess_text(sen):\n",
        "  # Removing html tags\n",
        "  sentence = remove_tags(sen)\n",
        "\n",
        "  # Removing punctuations and numbers\n",
        "  sentence = re.sub('[^a-zA-Z]', ' ', sentence)\n",
        "\n",
        "  # Single character removal\n",
        "  sentence = re.sub(r\"\\s+[a-zA-Z]\\s+\", ' ', sentence)\n",
        "\n",
        "  # removing multiple spaces\n",
        "  sentences = re.sub(r'\\s+', ' ', sentence)\n",
        "\n",
        "  return sentence\n",
        "\n",
        "\n",
        "def remove_tages(text):\n",
        "  return TEG_RE.sub('', text)\n",
        "\n",
        "review = []\n",
        "sentences = list(movie_reviews['review'])\n",
        "for sen in sentences:\n",
        "  review.append(preprocess_text(sen))\n"
      ],
      "execution_count": 6,
      "outputs": []
    },
    {
      "cell_type": "code",
      "metadata": {
        "colab": {
          "base_uri": "https://localhost:8080/",
          "height": 124
        },
        "id": "c3ss3JUBovFw",
        "outputId": "7b4bc19e-b987-4f1c-e9b1-1205b627f655"
      },
      "source": [
        "review[4]"
      ],
      "execution_count": 7,
      "outputs": [
        {
          "output_type": "execute_result",
          "data": {
            "application/vnd.google.colaboratory.intrinsic+json": {
              "type": "string"
            },
            "text/plain": [
              "'Petter Mattei Love in the Time of Money  is visually stunning film to watch  Mr  Mattei offers us vivid portrait about human relations  This is movie that seems to be telling us what money  power and success do to people in the different situations we encounter  This being variation on the Arthur Schnitzler play about the same theme  the director transfers the action to the present time New York where all these different characters meet and connect  Each one is connected in one way  or another to the next person  but no one seems to know the previous point of contact  Stylishly  the film has sophisticated luxurious look  We are taken to see how these people live and the world they live in their own habitat The only thing one gets out of all these souls in the picture is the different stages of loneliness each one inhabits big city is not exactly the best place in which human relations find sincere fulfillment  as one discerns is the case with most of the people we encounter The acting is good under Mr  Mattei direction  Steve Buscemi  Rosario Dawson  Carol Kane  Michael Imperioli  Adrian Grenier  and the rest of the talented cast  make these characters come alive We wish Mr  Mattei good luck and await anxiously for his next work '"
            ]
          },
          "metadata": {},
          "execution_count": 7
        }
      ]
    },
    {
      "cell_type": "code",
      "metadata": {
        "id": "FCKdxh4ipDyx"
      },
      "source": [
        "# Convert labels into integers\n",
        "\n",
        "converted = movie_reviews['sentiment']\n",
        "\n",
        "converted = np.array(list(map(lambda x: 1 if x==\"positive\" else 0, converted)))"
      ],
      "execution_count": 8,
      "outputs": []
    },
    {
      "cell_type": "code",
      "metadata": {
        "id": "rj5AVyYXbI-d"
      },
      "source": [
        "# Split training and testing data\n",
        "review_train, review_test, converted_train, converted_test = train_test_split(review, converted, test_size= 0.20, random_state=42)"
      ],
      "execution_count": 9,
      "outputs": []
    },
    {
      "cell_type": "code",
      "metadata": {
        "id": "X-LdUkFgckMW"
      },
      "source": [
        "# Tokenizing sentences\n",
        "tokenizer = Tokenizer(num_words=5000)\n",
        "tokenizer.fit_on_texts(review_train)\n",
        "\n",
        "review_train = tokenizer.texts_to_sequences(review_train)\n",
        "review_test = tokenizer.texts_to_sequences(review_test)"
      ],
      "execution_count": 12,
      "outputs": []
    },
    {
      "cell_type": "code",
      "metadata": {
        "id": "ABY8tP_ydbJ9"
      },
      "source": [
        "# Pad sequences class // setting the max size of each list to 100, by adding zeros if less or removing if more.\n",
        "vocab_size = len(tokenizer.word_index)+1\n",
        "\n",
        "max_length = 100\n",
        "\n",
        "review_train = pad_sequences(review_train, padding='post', maxlen=max_length)\n",
        "review_test = pad_sequences(review_test, padding='post', maxlen=max_length)"
      ],
      "execution_count": 16,
      "outputs": []
    },
    {
      "cell_type": "code",
      "metadata": {
        "id": "raavcUsLf31q"
      },
      "source": [
        "# uploading kaggle dataset\n",
        "\n",
        "!pip install kaggle\n",
        "!mkdir ~/.kaggle\n",
        "!cp kaggle.json ~/.kaggle/\n",
        "!chmod 600 ~/.kaggle/kaggle.json\n"
      ],
      "execution_count": null,
      "outputs": []
    },
    {
      "cell_type": "code",
      "metadata": {
        "colab": {
          "base_uri": "https://localhost:8080/"
        },
        "id": "VpqWQUmjgTso",
        "outputId": "d447b453-dd2e-4021-eec7-a27682c08a94"
      },
      "source": [
        "!kaggle datasets download danielwillgeorge/glove6b100dtxt"
      ],
      "execution_count": 24,
      "outputs": [
        {
          "output_type": "stream",
          "name": "stdout",
          "text": [
            "glove6b100dtxt.zip: Skipping, found more recently modified local copy (use --force to force download)\n"
          ]
        }
      ]
    },
    {
      "cell_type": "code",
      "metadata": {
        "id": "b618msNohNUh"
      },
      "source": [
        "!unzip /content/glove6b100dtxt.zipy"
      ],
      "execution_count": null,
      "outputs": []
    },
    {
      "cell_type": "code",
      "metadata": {
        "id": "MHftOJpNegil"
      },
      "source": [
        "# GloVe embedding\n",
        "from numpy import array\n",
        "from numpy import asarray\n",
        "from numpy import zeros\n",
        "\n",
        "embedding_dictionary = dict()\n",
        "glove_file = open('/content/glove.6B.100d.txt', encoding=\"utf8\")\n",
        "\n",
        "for line in glove_file:\n",
        "  records = line.split()\n",
        "  word = records[0]\n",
        "  vector_dimensions = asarray(records[1:], dtype='float32')\n",
        "  embedding_dictionary [word] = vector_dimensions\n",
        "glove_file.close()"
      ],
      "execution_count": 28,
      "outputs": []
    },
    {
      "cell_type": "code",
      "metadata": {
        "id": "zJo_VpXCiwaA"
      },
      "source": [
        "# Creating Embedding Matrix\n",
        "embedding_matrix= zeros((vocab_size, 100))\n",
        "for word, index in tokenizer.word_index.items():\n",
        "  embedding_vector= embedding_dictionary.get(word)\n",
        "  if embedding_vector is not None:\n",
        "    embedding_matrix[index] = embedding_vector"
      ],
      "execution_count": 29,
      "outputs": []
    },
    {
      "cell_type": "code",
      "metadata": {
        "colab": {
          "base_uri": "https://localhost:8080/"
        },
        "id": "BXHAGfqwkHOw",
        "outputId": "a6e81a1f-370e-421b-986c-aaf4c278e4de"
      },
      "source": [
        "# Creating model\n",
        "from keras.layers import LSTM\n",
        "\n",
        "model = Sequential()\n",
        "embedding_layer = Embedding(vocab_size, 100, weights=[embedding_matrix], input_length=max_length, trainable= False)\n",
        "model.add(embedding_layer)\n",
        "model.add(LSTM(128))\n",
        "model.add(Dense(1, activation='sigmoid'))\n",
        "model.compile(optimizer = 'adam', loss='binary_crossentropy', metrics= ['acc'])\n",
        "model.summary()"
      ],
      "execution_count": 31,
      "outputs": [
        {
          "output_type": "stream",
          "name": "stdout",
          "text": [
            "Model: \"sequential_1\"\n",
            "_________________________________________________________________\n",
            "Layer (type)                 Output Shape              Param #   \n",
            "=================================================================\n",
            "embedding_1 (Embedding)      (None, 100, 100)          9254700   \n",
            "_________________________________________________________________\n",
            "lstm_1 (LSTM)                (None, 128)               117248    \n",
            "_________________________________________________________________\n",
            "dense (Dense)                (None, 1)                 129       \n",
            "=================================================================\n",
            "Total params: 9,372,077\n",
            "Trainable params: 117,377\n",
            "Non-trainable params: 9,254,700\n",
            "_________________________________________________________________\n"
          ]
        }
      ]
    },
    {
      "cell_type": "code",
      "metadata": {
        "colab": {
          "base_uri": "https://localhost:8080/"
        },
        "id": "WNY7kQL5ljDf",
        "outputId": "2222af6d-8a96-4ec8-9891-01d7af6a3bfa"
      },
      "source": [
        "history = model.fit(review_train, converted_train, batch_size=128, epochs=6, verbose=1, validation_split=0.2)\n",
        "\n",
        "score = model.evaluate(review_test, converted_test, verbose=1)"
      ],
      "execution_count": 33,
      "outputs": [
        {
          "output_type": "stream",
          "name": "stdout",
          "text": [
            "Epoch 1/6\n",
            "250/250 [==============================] - 8s 33ms/step - loss: 0.5536 - acc: 0.7143 - val_loss: 0.4561 - val_acc: 0.7909\n",
            "Epoch 2/6\n",
            "250/250 [==============================] - 7s 27ms/step - loss: 0.4358 - acc: 0.7982 - val_loss: 0.4111 - val_acc: 0.8119\n",
            "Epoch 3/6\n",
            "250/250 [==============================] - 7s 28ms/step - loss: 0.3903 - acc: 0.8224 - val_loss: 0.3700 - val_acc: 0.8328\n",
            "Epoch 4/6\n",
            "250/250 [==============================] - 7s 27ms/step - loss: 0.3676 - acc: 0.8361 - val_loss: 0.3706 - val_acc: 0.8346\n",
            "Epoch 5/6\n",
            "250/250 [==============================] - 7s 27ms/step - loss: 0.3455 - acc: 0.8500 - val_loss: 0.3643 - val_acc: 0.8428\n",
            "Epoch 6/6\n",
            "250/250 [==============================] - 7s 27ms/step - loss: 0.3267 - acc: 0.8579 - val_loss: 0.3420 - val_acc: 0.8525\n",
            "313/313 [==============================] - 3s 10ms/step - loss: 0.3381 - acc: 0.8519\n"
          ]
        }
      ]
    },
    {
      "cell_type": "code",
      "metadata": {
        "colab": {
          "base_uri": "https://localhost:8080/"
        },
        "id": "8aNFniwjmWAn",
        "outputId": "df1db154-04c3-4329-8db3-3b5b9fe1152c"
      },
      "source": [
        "print('Test Score: ', score[0])\n",
        "print('Test Accuracy: ', score[1])"
      ],
      "execution_count": 34,
      "outputs": [
        {
          "output_type": "stream",
          "name": "stdout",
          "text": [
            "Test Score:  0.33814552426338196\n",
            "Test Accuracy:  0.8518999814987183\n"
          ]
        }
      ]
    },
    {
      "cell_type": "code",
      "metadata": {
        "colab": {
          "base_uri": "https://localhost:8080/"
        },
        "id": "0RTNn_34mlSD",
        "outputId": "57583415-e46d-4f5f-fa17-5790d9410b13"
      },
      "source": [
        "# making Predictions\n",
        "instance = review[60]\n",
        "print(instance)\n",
        "\n",
        "instance = tokenizer.texts_to_sequences(instance)\n",
        "\n",
        "flat_list = []\n",
        "for sublist in instance:\n",
        "  for item in sublist:\n",
        "    flat_list.append(item)\n",
        "\n",
        "flat_list = [flat_list]\n",
        "\n",
        "instance = pad_sequences(flat_list, padding='post', maxlen= max_length)\n",
        "\n",
        "model.predict(instance)"
      ],
      "execution_count": 46,
      "outputs": [
        {
          "output_type": "stream",
          "name": "stdout",
          "text": [
            "What happened  What we have here is basically solid and plausible premise and with decent and talented cast  but somewhere the movie loses it  Actually  it never really got going  There was little excitement when we find out that Angie is not really pregnant  then find out that she is after all  but that was it  Steve Martin  who is very talented person and usually brings lot to movie  was dreadful and his entire character was not even close to being important to this movie  other than to make it longer really would have liked to see more interactions between the main characters  Kate and Angie  and maybe try not for pure comedy  which unfortunately it was not  but maybe drama with comedic elements think if the movie did this it could have been very funny since both actresses are quite funny in their own ways and sitting here can think of numerous scenarios that would have been riot \n"
          ]
        },
        {
          "output_type": "execute_result",
          "data": {
            "text/plain": [
              "array([[0.9413576]], dtype=float32)"
            ]
          },
          "metadata": {},
          "execution_count": 46
        }
      ]
    },
    {
      "cell_type": "code",
      "metadata": {
        "colab": {
          "base_uri": "https://localhost:8080/",
          "height": 573
        },
        "id": "U92_wreYoJYO",
        "outputId": "fa629487-51eb-4b2c-88b7-d3537e1679fd"
      },
      "source": [
        "# plotting \n",
        "import matplotlib.pyplot as plt\n",
        "\n",
        "plt.plot(history.history['acc'])\n",
        "plt.plot(history.history['val_acc'])\n",
        "\n",
        "plt.title('model accuracy')\n",
        "plt.ylabel('accuracy')\n",
        "plt.xlabel('epochs')\n",
        "plt.legend(['train', 'test'], loc='lower right')\n",
        "plt.show()\n",
        "\n",
        "plt.plot(history.history['loss'])\n",
        "plt.plot(history.history['val_loss'])\n",
        "plt.title('model loss')\n",
        "plt.ylabel('loss')\n",
        "plt.xlabel('epochs')\n",
        "plt.legend(['train', 'test'], loc='upper right')\n",
        "plt.show()"
      ],
      "execution_count": 54,
      "outputs": [
        {
          "output_type": "display_data",
          "data": {
            "image/png": "[encoded data removed]",
            "text/plain": [
              "<Figure size 432x288 with 1 Axes>"
            ]
          },
          "metadata": {
            "needs_background": "light"
          }
        },
        {
          "output_type": "display_data",
          "data": {
            "image/png": "[encoded data removed]",
            "text/plain": [
              "<Figure size 432x288 with 1 Axes>"
            ]
          },
          "metadata": {
            "needs_background": "light"
          }
        }
      ]
    }
  ]
}