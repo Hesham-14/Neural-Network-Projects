{
  "nbformat": 4,
  "nbformat_minor": 0,
  "metadata": {
    "colab": {
      "name": "Word_embedding.ipynb",
      "provenance": [],
      "collapsed_sections": [],
      "authorship_tag": "ABX9TyPvRb8hF4CHx82WGoMbMCRg",
      "include_colab_link": true
    },
    "kernelspec": {
      "name": "python3",
      "display_name": "Python 3"
    },
    "language_info": {
      "name": "python"
    }
  },
  "cells": [
    {
      "cell_type": "markdown",
      "metadata": {
        "id": "view-in-github",
        "colab_type": "text"
      },
      "source": [
        "<a href=\"https://colab.research.google.com/github/Hesham-14/Neural-Network-Projects/blob/main/Word_embedding.ipynb\" target=\"_parent\"><img src=\"https://colab.research.google.com/assets/colab-badge.svg\" alt=\"Open In Colab\"/></a>"
      ]
    },
    {
      "cell_type": "code",
      "metadata": {
        "id": "OtzBbUAmKFT8"
      },
      "source": [
        "from numpy import array\n",
        "from keras.preprocessing.text import one_hot\n",
        "from keras.preprocessing.sequence import pad_sequences\n",
        "from keras.models import Sequential\n",
        "from keras.layers import Dense\n",
        "from keras.layers import Flatten\n",
        "from keras.layers.embeddings import Embedding"
      ],
      "execution_count": 1,
      "outputs": []
    },
    {
      "cell_type": "code",
      "metadata": {
        "id": "bsquGbrSK_tB"
      },
      "source": [
        "corpus = [\n",
        "          # Positive Reviews\n",
        "          'this is an excellent movie',\n",
        "          'the movie was fantastic I like it',\n",
        "          'You should watch it is brilliant',\n",
        "          'Exceptionally good',\n",
        "          'Wonderfully directed and executed I like it so much',\n",
        "          'Its a fantastic series',\n",
        "          'Never watched such a brillent movie',\n",
        "          'It is a Wonderful movie',\n",
        "\n",
        "          # Negative Reviews\n",
        "\n",
        "          'horrible acting',\n",
        "          'waste of money',\n",
        "          'pathetic picture',\n",
        "          'It was very boring',\n",
        "          'I did not like the movie',\n",
        "          'the movie was horrible',\n",
        "          'I will not recommend',\n",
        "          'The acting is pathetic'\n",
        "          ]"
      ],
      "execution_count": 2,
      "outputs": []
    },
    {
      "cell_type": "code",
      "metadata": {
        "id": "oFFxv6gpMVGM"
      },
      "source": [
        "sentiments = array([1,1,1,1,1,1,1,1, 0,0,0,0,0,0,0,0])"
      ],
      "execution_count": 3,
      "outputs": []
    },
    {
      "cell_type": "code",
      "metadata": {
        "colab": {
          "base_uri": "https://localhost:8080/"
        },
        "id": "a-zcPJMAMs6b",
        "outputId": "08a2b8b0-8a5f-4ae7-fe4d-a4a279df782f"
      },
      "source": [
        "# import NLTK \"Natural Language Toolkit\"\n",
        "import nltk\n",
        "\n",
        "nltk.download('punkt')\n",
        "from nltk.tokenize import word_tokenize\n",
        "\n",
        "all_words = []\n",
        "for sent in corpus:\n",
        "  tokenize_word = word_tokenize(sent)\n",
        "  for word in tokenize_word:\n",
        "    all_words.append(word)\n",
        "\n",
        "\n",
        "unique_words = set(all_words)\n",
        "print(len(unique_words))"
      ],
      "execution_count": 4,
      "outputs": [
        {
          "output_type": "stream",
          "name": "stdout",
          "text": [
            "[nltk_data] Downloading package punkt to /root/nltk_data...\n",
            "[nltk_data]   Package punkt is already up-to-date!\n",
            "46\n"
          ]
        }
      ]
    },
    {
      "cell_type": "code",
      "metadata": {
        "colab": {
          "base_uri": "https://localhost:8080/"
        },
        "id": "5MBgvrjgN2KB",
        "outputId": "e0b342e0-974f-4db4-e4de-10b2d2530c3e"
      },
      "source": [
        "embedded_sentences = [one_hot(sent, 50) for sent in corpus]\n",
        "print(embedded_sentences)"
      ],
      "execution_count": 5,
      "outputs": [
        {
          "output_type": "stream",
          "name": "stdout",
          "text": [
            "[[45, 5, 16, 14, 41], [48, 41, 11, 18, 27, 27, 32], [25, 13, 24, 32, 5, 42], [32, 18], [31, 44, 45, 32, 27, 27, 32, 24, 18], [28, 11, 18, 2], [6, 13, 1, 11, 1, 41], [32, 5, 11, 31, 41], [40, 31], [11, 26, 24], [49, 24], [32, 11, 1, 19], [27, 41, 6, 27, 48, 41], [48, 41, 11, 40], [27, 36, 6, 25], [48, 31, 5, 49]]\n"
          ]
        }
      ]
    },
    {
      "cell_type": "code",
      "metadata": {
        "id": "cpwRLA6jOKkw"
      },
      "source": [
        "word_count = lambda sentence: len(word_tokenize(sentence))\n",
        "longest_sentence = max(corpus, key=word_count)\n",
        "length_long_sentence = len(word_tokenize(longest_sentence))"
      ],
      "execution_count": 6,
      "outputs": []
    },
    {
      "cell_type": "code",
      "metadata": {
        "colab": {
          "base_uri": "https://localhost:8080/"
        },
        "id": "QPvt93uNOkGs",
        "outputId": "0dda49bf-a2d5-4433-a5dc-243a4ed8f91e"
      },
      "source": [
        "padded_sentences = pad_sequences(embedded_sentences, length_long_sentence, padding='post')\n",
        "print(padded_sentences)"
      ],
      "execution_count": 7,
      "outputs": [
        {
          "output_type": "stream",
          "name": "stdout",
          "text": [
            "[[45  5 16 14 41  0  0  0  0]\n",
            " [48 41 11 18 27 27 32  0  0]\n",
            " [25 13 24 32  5 42  0  0  0]\n",
            " [32 18  0  0  0  0  0  0  0]\n",
            " [31 44 45 32 27 27 32 24 18]\n",
            " [28 11 18  2  0  0  0  0  0]\n",
            " [ 6 13  1 11  1 41  0  0  0]\n",
            " [32  5 11 31 41  0  0  0  0]\n",
            " [40 31  0  0  0  0  0  0  0]\n",
            " [11 26 24  0  0  0  0  0  0]\n",
            " [49 24  0  0  0  0  0  0  0]\n",
            " [32 11  1 19  0  0  0  0  0]\n",
            " [27 41  6 27 48 41  0  0  0]\n",
            " [48 41 11 40  0  0  0  0  0]\n",
            " [27 36  6 25  0  0  0  0  0]\n",
            " [48 31  5 49  0  0  0  0  0]]\n"
          ]
        }
      ]
    },
    {
      "cell_type": "code",
      "metadata": {
        "colab": {
          "base_uri": "https://localhost:8080/"
        },
        "id": "Y_wcEomRPAt8",
        "outputId": "22bd1b00-e519-442c-fa93-0604dc9b735b"
      },
      "source": [
        "model = Sequential()\n",
        "model.add(Embedding(50, 20, input_length=length_long_sentence))\n",
        "model.add(Flatten())\n",
        "model.add(Dense(1, activation='sigmoid'))\n",
        "model.summary()\n",
        "\n",
        "model.compile(loss='binary_crossentropy', optimizer='adam', metrics=['acc'])"
      ],
      "execution_count": 8,
      "outputs": [
        {
          "output_type": "stream",
          "name": "stdout",
          "text": [
            "Model: \"sequential\"\n",
            "_________________________________________________________________\n",
            "Layer (type)                 Output Shape              Param #   \n",
            "=================================================================\n",
            "embedding (Embedding)        (None, 9, 20)             1000      \n",
            "_________________________________________________________________\n",
            "flatten (Flatten)            (None, 180)               0         \n",
            "_________________________________________________________________\n",
            "dense (Dense)                (None, 1)                 181       \n",
            "=================================================================\n",
            "Total params: 1,181\n",
            "Trainable params: 1,181\n",
            "Non-trainable params: 0\n",
            "_________________________________________________________________\n"
          ]
        }
      ]
    },
    {
      "cell_type": "code",
      "metadata": {
        "colab": {
          "base_uri": "https://localhost:8080/"
        },
        "id": "MupkwwPzVZkY",
        "outputId": "6a3d7f7e-63dc-49d8-c324-48ee70784915"
      },
      "source": [
        "model.fit(padded_sentences, sentiments, epochs=100, verbose=1)"
      ],
      "execution_count": 9,
      "outputs": [
        {
          "output_type": "stream",
          "name": "stdout",
          "text": [
            "Epoch 1/100\n",
            "1/1 [==============================] - 1s 856ms/step - loss: 0.6862 - acc: 0.6875\n",
            "Epoch 2/100\n",
            "1/1 [==============================] - 0s 9ms/step - loss: 0.6834 - acc: 0.7500\n",
            "Epoch 3/100\n",
            "1/1 [==============================] - 0s 7ms/step - loss: 0.6805 - acc: 0.8125\n",
            "Epoch 4/100\n",
            "1/1 [==============================] - 0s 4ms/step - loss: 0.6777 - acc: 0.8125\n",
            "Epoch 5/100\n",
            "1/1 [==============================] - 0s 4ms/step - loss: 0.6749 - acc: 0.8125\n",
            "Epoch 6/100\n",
            "1/1 [==============================] - 0s 5ms/step - loss: 0.6720 - acc: 0.8125\n",
            "Epoch 7/100\n",
            "1/1 [==============================] - 0s 5ms/step - loss: 0.6692 - acc: 0.8125\n",
            "Epoch 8/100\n",
            "1/1 [==============================] - 0s 4ms/step - loss: 0.6664 - acc: 0.8125\n",
            "Epoch 9/100\n",
            "1/1 [==============================] - 0s 5ms/step - loss: 0.6635 - acc: 0.8125\n",
            "Epoch 10/100\n",
            "1/1 [==============================] - 0s 8ms/step - loss: 0.6607 - acc: 0.8750\n",
            "Epoch 11/100\n",
            "1/1 [==============================] - 0s 5ms/step - loss: 0.6578 - acc: 0.8750\n",
            "Epoch 12/100\n",
            "1/1 [==============================] - 0s 5ms/step - loss: 0.6549 - acc: 0.8750\n",
            "Epoch 13/100\n",
            "1/1 [==============================] - 0s 6ms/step - loss: 0.6520 - acc: 0.8750\n",
            "Epoch 14/100\n",
            "1/1 [==============================] - 0s 9ms/step - loss: 0.6491 - acc: 0.8750\n",
            "Epoch 15/100\n",
            "1/1 [==============================] - 0s 5ms/step - loss: 0.6461 - acc: 0.8750\n",
            "Epoch 16/100\n",
            "1/1 [==============================] - 0s 5ms/step - loss: 0.6431 - acc: 0.8750\n",
            "Epoch 17/100\n",
            "1/1 [==============================] - 0s 5ms/step - loss: 0.6402 - acc: 0.8750\n",
            "Epoch 18/100\n",
            "1/1 [==============================] - 0s 7ms/step - loss: 0.6371 - acc: 0.8750\n",
            "Epoch 19/100\n",
            "1/1 [==============================] - 0s 5ms/step - loss: 0.6341 - acc: 0.8750\n",
            "Epoch 20/100\n",
            "1/1 [==============================] - 0s 5ms/step - loss: 0.6310 - acc: 0.8750\n",
            "Epoch 21/100\n",
            "1/1 [==============================] - 0s 10ms/step - loss: 0.6279 - acc: 0.8750\n",
            "Epoch 22/100\n",
            "1/1 [==============================] - 0s 4ms/step - loss: 0.6247 - acc: 0.8750\n",
            "Epoch 23/100\n",
            "1/1 [==============================] - 0s 4ms/step - loss: 0.6215 - acc: 0.8750\n",
            "Epoch 24/100\n",
            "1/1 [==============================] - 0s 5ms/step - loss: 0.6183 - acc: 0.8750\n",
            "Epoch 25/100\n",
            "1/1 [==============================] - 0s 5ms/step - loss: 0.6150 - acc: 0.8750\n",
            "Epoch 26/100\n",
            "1/1 [==============================] - 0s 6ms/step - loss: 0.6117 - acc: 0.8750\n",
            "Epoch 27/100\n",
            "1/1 [==============================] - 0s 5ms/step - loss: 0.6083 - acc: 0.8750\n",
            "Epoch 28/100\n",
            "1/1 [==============================] - 0s 6ms/step - loss: 0.6050 - acc: 0.8750\n",
            "Epoch 29/100\n",
            "1/1 [==============================] - 0s 6ms/step - loss: 0.6015 - acc: 0.8750\n",
            "Epoch 30/100\n",
            "1/1 [==============================] - 0s 5ms/step - loss: 0.5981 - acc: 0.8750\n",
            "Epoch 31/100\n",
            "1/1 [==============================] - 0s 7ms/step - loss: 0.5945 - acc: 0.8750\n",
            "Epoch 32/100\n",
            "1/1 [==============================] - 0s 6ms/step - loss: 0.5910 - acc: 0.8750\n",
            "Epoch 33/100\n",
            "1/1 [==============================] - 0s 5ms/step - loss: 0.5874 - acc: 0.8750\n",
            "Epoch 34/100\n",
            "1/1 [==============================] - 0s 7ms/step - loss: 0.5838 - acc: 0.8750\n",
            "Epoch 35/100\n",
            "1/1 [==============================] - 0s 6ms/step - loss: 0.5801 - acc: 0.8750\n",
            "Epoch 36/100\n",
            "1/1 [==============================] - 0s 7ms/step - loss: 0.5764 - acc: 0.8750\n",
            "Epoch 37/100\n",
            "1/1 [==============================] - 0s 9ms/step - loss: 0.5726 - acc: 0.8750\n",
            "Epoch 38/100\n",
            "1/1 [==============================] - 0s 6ms/step - loss: 0.5689 - acc: 0.8750\n",
            "Epoch 39/100\n",
            "1/1 [==============================] - 0s 6ms/step - loss: 0.5650 - acc: 0.8750\n",
            "Epoch 40/100\n",
            "1/1 [==============================] - 0s 5ms/step - loss: 0.5612 - acc: 0.8750\n",
            "Epoch 41/100\n",
            "1/1 [==============================] - 0s 7ms/step - loss: 0.5573 - acc: 0.9375\n",
            "Epoch 42/100\n",
            "1/1 [==============================] - 0s 5ms/step - loss: 0.5533 - acc: 0.9375\n",
            "Epoch 43/100\n",
            "1/1 [==============================] - 0s 7ms/step - loss: 0.5494 - acc: 0.9375\n",
            "Epoch 44/100\n",
            "1/1 [==============================] - 0s 7ms/step - loss: 0.5454 - acc: 0.9375\n",
            "Epoch 45/100\n",
            "1/1 [==============================] - 0s 5ms/step - loss: 0.5413 - acc: 0.9375\n",
            "Epoch 46/100\n",
            "1/1 [==============================] - 0s 7ms/step - loss: 0.5372 - acc: 0.9375\n",
            "Epoch 47/100\n",
            "1/1 [==============================] - 0s 5ms/step - loss: 0.5331 - acc: 0.9375\n",
            "Epoch 48/100\n",
            "1/1 [==============================] - 0s 8ms/step - loss: 0.5290 - acc: 0.9375\n",
            "Epoch 49/100\n",
            "1/1 [==============================] - 0s 5ms/step - loss: 0.5249 - acc: 0.9375\n",
            "Epoch 50/100\n",
            "1/1 [==============================] - 0s 8ms/step - loss: 0.5207 - acc: 0.9375\n",
            "Epoch 51/100\n",
            "1/1 [==============================] - 0s 5ms/step - loss: 0.5165 - acc: 0.9375\n",
            "Epoch 52/100\n",
            "1/1 [==============================] - 0s 21ms/step - loss: 0.5122 - acc: 0.9375\n",
            "Epoch 53/100\n",
            "1/1 [==============================] - 0s 6ms/step - loss: 0.5080 - acc: 0.9375\n",
            "Epoch 54/100\n",
            "1/1 [==============================] - 0s 9ms/step - loss: 0.5037 - acc: 0.9375\n",
            "Epoch 55/100\n",
            "1/1 [==============================] - 0s 10ms/step - loss: 0.4994 - acc: 0.9375\n",
            "Epoch 56/100\n",
            "1/1 [==============================] - 0s 11ms/step - loss: 0.4950 - acc: 0.9375\n",
            "Epoch 57/100\n",
            "1/1 [==============================] - 0s 7ms/step - loss: 0.4907 - acc: 0.9375\n",
            "Epoch 58/100\n",
            "1/1 [==============================] - 0s 6ms/step - loss: 0.4863 - acc: 0.9375\n",
            "Epoch 59/100\n",
            "1/1 [==============================] - 0s 8ms/step - loss: 0.4820 - acc: 0.9375\n",
            "Epoch 60/100\n",
            "1/1 [==============================] - 0s 7ms/step - loss: 0.4776 - acc: 0.9375\n",
            "Epoch 61/100\n",
            "1/1 [==============================] - 0s 8ms/step - loss: 0.4732 - acc: 0.9375\n",
            "Epoch 62/100\n",
            "1/1 [==============================] - 0s 11ms/step - loss: 0.4688 - acc: 0.9375\n",
            "Epoch 63/100\n",
            "1/1 [==============================] - 0s 12ms/step - loss: 0.4643 - acc: 0.9375\n",
            "Epoch 64/100\n",
            "1/1 [==============================] - 0s 10ms/step - loss: 0.4599 - acc: 0.9375\n",
            "Epoch 65/100\n",
            "1/1 [==============================] - 0s 9ms/step - loss: 0.4555 - acc: 0.9375\n",
            "Epoch 66/100\n",
            "1/1 [==============================] - 0s 22ms/step - loss: 0.4511 - acc: 0.9375\n",
            "Epoch 67/100\n",
            "1/1 [==============================] - 0s 12ms/step - loss: 0.4466 - acc: 0.9375\n",
            "Epoch 68/100\n",
            "1/1 [==============================] - 0s 10ms/step - loss: 0.4422 - acc: 0.9375\n",
            "Epoch 69/100\n",
            "1/1 [==============================] - 0s 7ms/step - loss: 0.4378 - acc: 0.9375\n",
            "Epoch 70/100\n",
            "1/1 [==============================] - 0s 5ms/step - loss: 0.4333 - acc: 0.9375\n",
            "Epoch 71/100\n",
            "1/1 [==============================] - 0s 7ms/step - loss: 0.4289 - acc: 0.9375\n",
            "Epoch 72/100\n",
            "1/1 [==============================] - 0s 7ms/step - loss: 0.4245 - acc: 0.9375\n",
            "Epoch 73/100\n",
            "1/1 [==============================] - 0s 5ms/step - loss: 0.4201 - acc: 0.9375\n",
            "Epoch 74/100\n",
            "1/1 [==============================] - 0s 7ms/step - loss: 0.4157 - acc: 0.9375\n",
            "Epoch 75/100\n",
            "1/1 [==============================] - 0s 8ms/step - loss: 0.4113 - acc: 0.9375\n",
            "Epoch 76/100\n",
            "1/1 [==============================] - 0s 11ms/step - loss: 0.4069 - acc: 0.9375\n",
            "Epoch 77/100\n",
            "1/1 [==============================] - 0s 10ms/step - loss: 0.4025 - acc: 0.9375\n",
            "Epoch 78/100\n",
            "1/1 [==============================] - 0s 8ms/step - loss: 0.3982 - acc: 0.9375\n",
            "Epoch 79/100\n",
            "1/1 [==============================] - 0s 5ms/step - loss: 0.3939 - acc: 0.9375\n",
            "Epoch 80/100\n",
            "1/1 [==============================] - 0s 14ms/step - loss: 0.3895 - acc: 0.9375\n",
            "Epoch 81/100\n",
            "1/1 [==============================] - 0s 11ms/step - loss: 0.3852 - acc: 0.9375\n",
            "Epoch 82/100\n",
            "1/1 [==============================] - 0s 8ms/step - loss: 0.3810 - acc: 0.9375\n",
            "Epoch 83/100\n",
            "1/1 [==============================] - 0s 11ms/step - loss: 0.3767 - acc: 0.9375\n",
            "Epoch 84/100\n",
            "1/1 [==============================] - 0s 7ms/step - loss: 0.3725 - acc: 0.9375\n",
            "Epoch 85/100\n",
            "1/1 [==============================] - 0s 10ms/step - loss: 0.3683 - acc: 0.9375\n",
            "Epoch 86/100\n",
            "1/1 [==============================] - 0s 7ms/step - loss: 0.3641 - acc: 0.9375\n",
            "Epoch 87/100\n",
            "1/1 [==============================] - 0s 3ms/step - loss: 0.3599 - acc: 0.9375\n",
            "Epoch 88/100\n",
            "1/1 [==============================] - 0s 4ms/step - loss: 0.3558 - acc: 0.9375\n",
            "Epoch 89/100\n",
            "1/1 [==============================] - 0s 8ms/step - loss: 0.3517 - acc: 0.9375\n",
            "Epoch 90/100\n",
            "1/1 [==============================] - 0s 4ms/step - loss: 0.3476 - acc: 0.9375\n",
            "Epoch 91/100\n",
            "1/1 [==============================] - 0s 4ms/step - loss: 0.3435 - acc: 0.9375\n",
            "Epoch 92/100\n",
            "1/1 [==============================] - 0s 7ms/step - loss: 0.3395 - acc: 0.9375\n",
            "Epoch 93/100\n",
            "1/1 [==============================] - 0s 4ms/step - loss: 0.3355 - acc: 0.9375\n",
            "Epoch 94/100\n",
            "1/1 [==============================] - 0s 3ms/step - loss: 0.3315 - acc: 0.9375\n",
            "Epoch 95/100\n",
            "1/1 [==============================] - 0s 7ms/step - loss: 0.3276 - acc: 0.9375\n",
            "Epoch 96/100\n",
            "1/1 [==============================] - 0s 3ms/step - loss: 0.3237 - acc: 0.9375\n",
            "Epoch 97/100\n",
            "1/1 [==============================] - 0s 3ms/step - loss: 0.3198 - acc: 0.9375\n",
            "Epoch 98/100\n",
            "1/1 [==============================] - 0s 4ms/step - loss: 0.3160 - acc: 0.9375\n",
            "Epoch 99/100\n",
            "1/1 [==============================] - 0s 5ms/step - loss: 0.3122 - acc: 0.9375\n",
            "Epoch 100/100\n",
            "1/1 [==============================] - 0s 4ms/step - loss: 0.3084 - acc: 0.9375\n"
          ]
        },
        {
          "output_type": "execute_result",
          "data": {
            "text/plain": [
              "<keras.callbacks.History at 0x7f0682afb710>"
            ]
          },
          "metadata": {},
          "execution_count": 9
        }
      ]
    },
    {
      "cell_type": "code",
      "metadata": {
        "colab": {
          "base_uri": "https://localhost:8080/"
        },
        "id": "AFoeJSXIVp3C",
        "outputId": "e392ca02-c8b8-46e9-e00b-7da65922d54a"
      },
      "source": [
        "loss, accuracy = model.evaluate(padded_sentences, sentiments, verbose=0)\n",
        "print('Accuracy: %f' % (accuracy*100))"
      ],
      "execution_count": 11,
      "outputs": [
        {
          "output_type": "stream",
          "name": "stdout",
          "text": [
            "Accuracy: 93.750000\n"
          ]
        }
      ]
    }
  ]
}