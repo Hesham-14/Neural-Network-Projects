{
  "nbformat": 4,
  "nbformat_minor": 0,
  "metadata": {
    "colab": {
      "name": "BBCNEWS.ipynb",
      "provenance": [],
      "collapsed_sections": [],
      "authorship_tag": "ABX9TyNtneoCod2Y1ORP7aaYAd0c",
      "include_colab_link": true
    },
    "kernelspec": {
      "name": "python3",
      "display_name": "Python 3"
    },
    "language_info": {
      "name": "python"
    }
  },
  "cells": [
    {
      "cell_type": "markdown",
      "metadata": {
        "id": "view-in-github",
        "colab_type": "text"
      },
      "source": [
        "<a href=\"https://colab.research.google.com/github/Hesham-14/Neural-Network-Projects/blob/main/BBCNEWS.ipynb\" target=\"_parent\"><img src=\"https://colab.research.google.com/assets/colab-badge.svg\" alt=\"Open In Colab\"/></a>"
      ]
    },
    {
      "cell_type": "code",
      "metadata": {
        "id": "xfOfMvhNs2iz"
      },
      "source": [
        "# BBC NEWS RNN ~~ From: Hesham Mohamed Mohamed Mostafa ~~ 8/10/2021"
      ],
      "execution_count": null,
      "outputs": []
    },
    {
      "cell_type": "code",
      "metadata": {
        "colab": {
          "base_uri": "https://localhost:8080/"
        },
        "id": "XzjetPR2uyIG",
        "outputId": "ee00f17a-e529-4da5-b2e3-a0b207f7de71"
      },
      "source": [
        "# Importing Required Libraries \n",
        "import csv\n",
        "import tensorflow as tf\n",
        "import numpy as np\n",
        "from tensorflow.keras.preprocessing.text import Tokenizer\n",
        "from tensorflow.keras.preprocessing.sequence import pad_sequences\n",
        "\n",
        "!wger --no-check-certificate \\\n",
        "    /content/bbc-text (1).csv \\\n",
        "    -O /temp/bbc-text.csv"
      ],
      "execution_count": 1,
      "outputs": [
        {
          "output_type": "stream",
          "name": "stdout",
          "text": [
            "/bin/bash: -c: line 0: syntax error near unexpected token `('\n",
            "/bin/bash: -c: line 0: `wger --no-check-certificate     /content/bbc-text (1).csv     -O /temp/bbc-text.csv'\n"
          ]
        }
      ]
    },
    {
      "cell_type": "code",
      "metadata": {
        "id": "sLstMJIvwEGX"
      },
      "source": [
        "# Initializing Needed Variables\n",
        "vocab_size = 1000\n",
        "embedding_dim = 16\n",
        "max_length = 120\n",
        "trunc_type = 'post'\n",
        "padding_type = 'post'\n",
        "oov_tok = \"<OOV>\"\n",
        "training_portion = 0.8"
      ],
      "execution_count": 2,
      "outputs": []
    },
    {
      "cell_type": "code",
      "metadata": {
        "colab": {
          "base_uri": "https://localhost:8080/"
        },
        "id": "tssYYCBqxsie",
        "outputId": "6c86dfca-7e32-4d6e-c913-cfa6db2a0057"
      },
      "source": [
        "# Installing stop-words library\n",
        "!pip install stop-words"
      ],
      "execution_count": 3,
      "outputs": [
        {
          "output_type": "stream",
          "name": "stdout",
          "text": [
            "Collecting stop-words\n",
            "  Downloading stop-words-2018.7.23.tar.gz (31 kB)\n",
            "Building wheels for collected packages: stop-words\n",
            "  Building wheel for stop-words (setup.py) ... \u001b[?25l\u001b[?25hdone\n",
            "  Created wheel for stop-words: filename=stop_words-2018.7.23-py3-none-any.whl size=32912 sha256=c755ebc2d0df85587489bd371b8e4d35695e3f3cf034a7afe1da43a84d175722\n",
            "  Stored in directory: /root/.cache/pip/wheels/fb/86/b2/277b10b1ce9f73ce15059bf6975d4547cc4ec3feeb651978e9\n",
            "Successfully built stop-words\n",
            "Installing collected packages: stop-words\n",
            "Successfully installed stop-words-2018.7.23\n"
          ]
        }
      ]
    },
    {
      "cell_type": "code",
      "metadata": {
        "colab": {
          "base_uri": "https://localhost:8080/"
        },
        "id": "orBvnjenwtd9",
        "outputId": "da875116-52cd-4b48-f234-0eb7c524c060"
      },
      "source": [
        "# defining stopwords\n",
        "from stop_words import get_stop_words\n",
        "sentences = []\n",
        "labels = []\n",
        "stopwords = get_stop_words('english')\n",
        "print(len(stopwords))"
      ],
      "execution_count": 4,
      "outputs": [
        {
          "output_type": "stream",
          "name": "stdout",
          "text": [
            "174\n"
          ]
        }
      ]
    },
    {
      "cell_type": "code",
      "metadata": {
        "colab": {
          "base_uri": "https://localhost:8080/"
        },
        "id": "qFS5F9UvzQpt",
        "outputId": "8dfe257e-1d6e-4592-b7f1-60c69a8c23b0"
      },
      "source": [
        "# Examining data\n",
        "with open(\"/content/bbc-text (1).csv\", 'r') as csvfile:\n",
        "  reader = csv.reader(csvfile, delimiter=',')\n",
        "  next(reader)\n",
        "  for row in reader:\n",
        "    labels.append(row[0])\n",
        "    sentence = row[1]\n",
        "    for word in stopwords:\n",
        "      token = \" \" + word + \" \"\n",
        "      sentence = sentence.replace(token, \" \")\n",
        "    sentences.append(sentence)\n",
        "\n",
        "print(len(labels))\n",
        "print(len(sentences))\n",
        "print(sentences[0])"
      ],
      "execution_count": 6,
      "outputs": [
        {
          "output_type": "stream",
          "name": "stdout",
          "text": [
            "2225\n",
            "2225\n",
            "tv future hands viewers home theatre systems  plasma high-definition tvs  digital video recorders moving living room  way people watch tv will radically different five years  time.  according expert panel gathered annual consumer electronics show las vegas discuss new technologies will impact one favourite pastimes. us leading trend  programmes content will delivered viewers via home networks  cable  satellite  telecoms companies  broadband service providers front rooms portable devices.  one talked-about technologies ces digital personal video recorders (dvr pvr). set-top boxes  like us s tivo uk s sky+ system  allow people record  store  play  pause forward wind tv programmes want.  essentially  technology allows much personalised tv. also built-in high-definition tv sets  big business japan us  slower take europe lack high-definition programming. can people forward wind adverts  can also forget abiding network channel schedules  putting together a-la-carte entertainment. us networks cable satellite companies worried means terms advertising revenues well  brand identity  viewer loyalty channels. although us leads technology moment  also concern raised europe  particularly growing uptake services like sky+.  happens today  will see nine months years  time uk   adam hume  bbc broadcast s futurologist told bbc news website. likes bbc  issues lost advertising revenue yet. pressing issue moment commercial uk broadcasters  brand loyalty important everyone.  will talking content brands rather network brands   said tim hanlon  brand communications firm starcom mediavest.  reality broadband connections  anybody can producer content.  added:  challenge now hard promote programme much choice.   means  said stacey jolna  senior vice president tv guide tv group  way people find content want watch simplified tv viewers. means networks  us terms  channels take leaf google s book search engine future  instead scheduler help people find want watch. kind channel model might work younger ipod generation used taking control gadgets play them. might suit everyone  panel recognised. older generations comfortable familiar schedules channel brands know getting. perhaps want much choice put hands  mr hanlon suggested.  end  kids just diapers pushing buttons already - everything possible available   said mr hanlon.  ultimately  consumer will tell market want.   50 000 new gadgets technologies showcased ces  many enhancing tv-watching experience. high-definition tv sets everywhere many new models lcd (liquid crystal display) tvs launched dvr capability built  instead external boxes. one example launched show humax s 26-inch lcd tv 80-hour tivo dvr dvd recorder. one us s biggest satellite tv companies  directtv  even launched branded dvr show 100-hours recording capability  instant replay  search function. set can pause rewind tv 90 hours. microsoft chief bill gates announced pre-show keynote speech partnership tivo  called tivotogo  means people can play recorded programmes windows pcs mobile devices. reflect increasing trend freeing multimedia people can watch want  want.\n"
          ]
        }
      ]
    },
    {
      "cell_type": "code",
      "metadata": {
        "colab": {
          "base_uri": "https://localhost:8080/"
        },
        "id": "CoWFVOEb17lT",
        "outputId": "a06c7b3e-08fa-4c20-b4fd-f74f985b3859"
      },
      "source": [
        "# Setting the training and validation sets\n",
        "train_size = int(len(sentences) * training_portion)\n",
        "\n",
        "train_sentences = sentences[:train_size]\n",
        "train_labels = labels[:train_size]\n",
        "\n",
        "validation_sentences = sentences[train_size:]\n",
        "validation_labels = labels[train_size:]\n",
        "\n",
        "print(train_size)\n",
        "print(len(train_sentences))\n",
        "print(len(train_labels))\n",
        "print(len(validation_sentences))\n",
        "print(len(validation_labels))\n",
        "\n",
        "# Expected\n",
        "# 1096\n",
        "# 1096\n",
        "# 1096\n",
        "# 274\n",
        "# 274"
      ],
      "execution_count": 7,
      "outputs": [
        {
          "output_type": "stream",
          "name": "stdout",
          "text": [
            "1780\n",
            "1780\n",
            "1780\n",
            "445\n",
            "445\n"
          ]
        }
      ]
    },
    {
      "cell_type": "code",
      "metadata": {
        "colab": {
          "base_uri": "https://localhost:8080/"
        },
        "id": "iHHzWxks3agA",
        "outputId": "813c70a3-afd9-4cfd-b32b-d2a84c3f4294"
      },
      "source": [
        "# Tokenize training set (sentences, sequences and padding)\n",
        "tokenizer = Tokenizer(num_words = vocab_size, oov_token = oov_tok)\n",
        "tokenizer.fit_on_texts(train_sentences)\n",
        "word_index = tokenizer.word_index\n",
        "\n",
        "train_sequences = tokenizer.texts_to_sequences(train_sentences)\n",
        "train_padded = pad_sequences(train_sequences, padding = padding_type, maxlen=max_length)\n",
        "\n",
        "print(len(train_sequences[0]))\n",
        "print(len(train_padded[0]))\n",
        "\n",
        "print(len(train_sequences[1]))\n",
        "print(len(train_padded[1]))\n",
        "\n",
        "print(len(train_sequences[10]))\n",
        "print(len(train_padded[10]))"
      ],
      "execution_count": 8,
      "outputs": [
        {
          "output_type": "stream",
          "name": "stdout",
          "text": [
            "444\n",
            "120\n",
            "197\n",
            "120\n",
            "192\n",
            "120\n"
          ]
        }
      ]
    },
    {
      "cell_type": "code",
      "metadata": {
        "colab": {
          "base_uri": "https://localhost:8080/"
        },
        "id": "M8jdKj4n7-RF",
        "outputId": "941e8afd-6890-4096-afbd-f8298d8aad61"
      },
      "source": [
        "# Tokenize validation set (sentences, sequences and padding)\n",
        "validation_sequences = tokenizer.texts_to_sequences(validation_sentences)\n",
        "validation_padded = pad_sequences(validation_sequences, padding = padding_type, maxlen=max_length)\n",
        "\n",
        "print(len(validation_sequences))\n",
        "print(validation_padded.shape)"
      ],
      "execution_count": 9,
      "outputs": [
        {
          "output_type": "stream",
          "name": "stdout",
          "text": [
            "445\n",
            "(445, 120)\n"
          ]
        }
      ]
    },
    {
      "cell_type": "code",
      "metadata": {
        "colab": {
          "base_uri": "https://localhost:8080/"
        },
        "id": "uTMUBDQj8n_a",
        "outputId": "0b8ad3b9-7c07-459d-e82d-b8c74f901e93"
      },
      "source": [
        "# tokinzing labels\n",
        "label_tokenizer = Tokenizer()\n",
        "label_tokenizer.fit_on_texts(labels)\n",
        "\n",
        "training_labels_seq = np.array(label_tokenizer.texts_to_sequences(train_labels))\n",
        "validation_labels_seq = np.array(label_tokenizer.texts_to_sequences(validation_labels))\n",
        "\n",
        "print(training_labels_seq[0])\n",
        "print(training_labels_seq[1])\n",
        "print(training_labels_seq[2])\n",
        "print(training_labels_seq.shape)\n",
        "\n",
        "print('\\n **** \\n')\n",
        "\n",
        "print(validation_labels_seq[0])\n",
        "print(validation_labels_seq[1])\n",
        "print(validation_labels_seq[2])\n",
        "print(validation_labels_seq.shape)"
      ],
      "execution_count": 10,
      "outputs": [
        {
          "output_type": "stream",
          "name": "stdout",
          "text": [
            "[4]\n",
            "[2]\n",
            "[1]\n",
            "(1780, 1)\n",
            "\n",
            " **** \n",
            "\n",
            "[5]\n",
            "[4]\n",
            "[3]\n",
            "(445, 1)\n"
          ]
        }
      ]
    },
    {
      "cell_type": "code",
      "metadata": {
        "colab": {
          "base_uri": "https://localhost:8080/"
        },
        "id": "GRrA5_JWpvyI",
        "outputId": "f01b0c2c-f531-4c00-da7d-f73006a20eb8"
      },
      "source": [
        "# Compilling the model\n",
        "model = tf.keras.Sequential([\n",
        "                             tf.keras.layers.Embedding(vocab_size, embedding_dim, input_length=max_length),\n",
        "                             tf.keras.layers.GlobalAveragePooling1D(),\n",
        "                             tf.keras.layers.Dense(24, activation='relu'),\n",
        "                             tf.keras.layers.Dense(6, activation='softmax')\n",
        "                             ])\n",
        "model.compile(loss='sparse_categorical_crossentropy', optimizer='adam', metrics=['accuracy'])\n",
        "model.summary()"
      ],
      "execution_count": 16,
      "outputs": [
        {
          "output_type": "stream",
          "name": "stdout",
          "text": [
            "Model: \"sequential_3\"\n",
            "_________________________________________________________________\n",
            "Layer (type)                 Output Shape              Param #   \n",
            "=================================================================\n",
            "embedding_3 (Embedding)      (None, 120, 16)           16000     \n",
            "_________________________________________________________________\n",
            "global_average_pooling1d_3 ( (None, 16)                0         \n",
            "_________________________________________________________________\n",
            "dense_6 (Dense)              (None, 24)                408       \n",
            "_________________________________________________________________\n",
            "dense_7 (Dense)              (None, 6)                 150       \n",
            "=================================================================\n",
            "Total params: 16,558\n",
            "Trainable params: 16,558\n",
            "Non-trainable params: 0\n",
            "_________________________________________________________________\n"
          ]
        }
      ]
    },
    {
      "cell_type": "code",
      "metadata": {
        "colab": {
          "base_uri": "https://localhost:8080/"
        },
        "id": "WuAJYx5yrp5-",
        "outputId": "b5830896-a7a1-405b-9a68-543d27d436e6"
      },
      "source": [
        "num_epochs = 30\n",
        "history = model.fit(train_padded, training_labels_seq, epochs=num_epochs, validation_data=(validation_padded, validation_labels_seq), verbose=2)"
      ],
      "execution_count": 17,
      "outputs": [
        {
          "output_type": "stream",
          "name": "stdout",
          "text": [
            "Epoch 1/30\n",
            "56/56 - 1s - loss: 1.7605 - accuracy: 0.3573 - val_loss: 1.7243 - val_accuracy: 0.3708\n",
            "Epoch 2/30\n",
            "56/56 - 0s - loss: 1.6760 - accuracy: 0.3545 - val_loss: 1.6267 - val_accuracy: 0.3191\n",
            "Epoch 3/30\n",
            "56/56 - 0s - loss: 1.5597 - accuracy: 0.3466 - val_loss: 1.5030 - val_accuracy: 0.4202\n",
            "Epoch 4/30\n",
            "56/56 - 0s - loss: 1.4086 - accuracy: 0.5337 - val_loss: 1.3425 - val_accuracy: 0.6899\n",
            "Epoch 5/30\n",
            "56/56 - 0s - loss: 1.2132 - accuracy: 0.7753 - val_loss: 1.1456 - val_accuracy: 0.7326\n",
            "Epoch 6/30\n",
            "56/56 - 0s - loss: 0.9973 - accuracy: 0.7904 - val_loss: 0.9471 - val_accuracy: 0.8000\n",
            "Epoch 7/30\n",
            "56/56 - 0s - loss: 0.7947 - accuracy: 0.8618 - val_loss: 0.7691 - val_accuracy: 0.8472\n",
            "Epoch 8/30\n",
            "56/56 - 0s - loss: 0.6251 - accuracy: 0.8966 - val_loss: 0.6247 - val_accuracy: 0.8831\n",
            "Epoch 9/30\n",
            "56/56 - 0s - loss: 0.4908 - accuracy: 0.9202 - val_loss: 0.5177 - val_accuracy: 0.8876\n",
            "Epoch 10/30\n",
            "56/56 - 0s - loss: 0.3883 - accuracy: 0.9382 - val_loss: 0.4331 - val_accuracy: 0.8944\n",
            "Epoch 11/30\n",
            "56/56 - 0s - loss: 0.3129 - accuracy: 0.9483 - val_loss: 0.3747 - val_accuracy: 0.9079\n",
            "Epoch 12/30\n",
            "56/56 - 0s - loss: 0.2593 - accuracy: 0.9556 - val_loss: 0.3335 - val_accuracy: 0.9101\n",
            "Epoch 13/30\n",
            "56/56 - 0s - loss: 0.2195 - accuracy: 0.9618 - val_loss: 0.3014 - val_accuracy: 0.9124\n",
            "Epoch 14/30\n",
            "56/56 - 0s - loss: 0.1901 - accuracy: 0.9652 - val_loss: 0.2792 - val_accuracy: 0.9124\n",
            "Epoch 15/30\n",
            "56/56 - 0s - loss: 0.1656 - accuracy: 0.9674 - val_loss: 0.2659 - val_accuracy: 0.9169\n",
            "Epoch 16/30\n",
            "56/56 - 0s - loss: 0.1464 - accuracy: 0.9736 - val_loss: 0.2513 - val_accuracy: 0.9169\n",
            "Epoch 17/30\n",
            "56/56 - 0s - loss: 0.1296 - accuracy: 0.9770 - val_loss: 0.2383 - val_accuracy: 0.9213\n",
            "Epoch 18/30\n",
            "56/56 - 0s - loss: 0.1158 - accuracy: 0.9787 - val_loss: 0.2303 - val_accuracy: 0.9258\n",
            "Epoch 19/30\n",
            "56/56 - 0s - loss: 0.1038 - accuracy: 0.9815 - val_loss: 0.2259 - val_accuracy: 0.9236\n",
            "Epoch 20/30\n",
            "56/56 - 0s - loss: 0.0936 - accuracy: 0.9843 - val_loss: 0.2189 - val_accuracy: 0.9213\n",
            "Epoch 21/30\n",
            "56/56 - 0s - loss: 0.0841 - accuracy: 0.9860 - val_loss: 0.2146 - val_accuracy: 0.9281\n",
            "Epoch 22/30\n",
            "56/56 - 0s - loss: 0.0755 - accuracy: 0.9921 - val_loss: 0.2070 - val_accuracy: 0.9258\n",
            "Epoch 23/30\n",
            "56/56 - 0s - loss: 0.0686 - accuracy: 0.9921 - val_loss: 0.2088 - val_accuracy: 0.9326\n",
            "Epoch 24/30\n",
            "56/56 - 0s - loss: 0.0621 - accuracy: 0.9927 - val_loss: 0.2017 - val_accuracy: 0.9281\n",
            "Epoch 25/30\n",
            "56/56 - 0s - loss: 0.0563 - accuracy: 0.9949 - val_loss: 0.1993 - val_accuracy: 0.9258\n",
            "Epoch 26/30\n",
            "56/56 - 0s - loss: 0.0513 - accuracy: 0.9949 - val_loss: 0.1978 - val_accuracy: 0.9303\n",
            "Epoch 27/30\n",
            "56/56 - 0s - loss: 0.0461 - accuracy: 0.9949 - val_loss: 0.1950 - val_accuracy: 0.9303\n",
            "Epoch 28/30\n",
            "56/56 - 0s - loss: 0.0425 - accuracy: 0.9961 - val_loss: 0.1943 - val_accuracy: 0.9348\n",
            "Epoch 29/30\n",
            "56/56 - 0s - loss: 0.0385 - accuracy: 0.9972 - val_loss: 0.1939 - val_accuracy: 0.9303\n",
            "Epoch 30/30\n",
            "56/56 - 0s - loss: 0.0352 - accuracy: 0.9972 - val_loss: 0.1936 - val_accuracy: 0.9303\n"
          ]
        }
      ]
    },
    {
      "cell_type": "code",
      "metadata": {
        "colab": {
          "base_uri": "https://localhost:8080/",
          "height": 541
        },
        "id": "iZgSr-Aeu8B7",
        "outputId": "e1778090-7baf-4fc6-c151-31afd51af7c1"
      },
      "source": [
        "# Plotting training history\n",
        "\n",
        "import matplotlib.pyplot as plt\n",
        "\n",
        "# Function that calls the required data from history epochs which had been tested\n",
        "# and ploting it on two separated Graphs.\n",
        "\n",
        "# We do this step to check that over model do not overfit or underfit.\n",
        "\n",
        "def plot_graph(history, string):\n",
        "  plt.plot(history.history[string])\n",
        "  plt.plot(history.history['val_' + string])\n",
        "  plt.xlabel(\"Epochs\")\n",
        "  plt.ylabel(string)\n",
        "  plt.legend([string, 'val_' + string])\n",
        "  plt.show()\n",
        "\n",
        "plot_graph(history, \"accuracy\")\n",
        "plot_graph(history, \"loss\")"
      ],
      "execution_count": 43,
      "outputs": [
        {
          "output_type": "display_data",
          "data": {
            "image/png": "[encoded data removed]",
            "text/plain": [
              "<Figure size 432x288 with 1 Axes>"
            ]
          },
          "metadata": {
            "needs_background": "light"
          }
        },
        {
          "output_type": "display_data",
          "data": {
            "image/png": "[encoded data removed]",
            "text/plain": [
              "<Figure size 432x288 with 1 Axes>"
            ]
          },
          "metadata": {
            "needs_background": "light"
          }
        }
      ]
    }
  ]
}