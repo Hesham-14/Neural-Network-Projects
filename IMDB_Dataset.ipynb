{
  "nbformat": 4,
  "nbformat_minor": 0,
  "metadata": {
    "colab": {
      "name": "IMDB_Dataset.ipynb",
      "provenance": [],
      "authorship_tag": "ABX9TyPEfd193POnL/XkNKQTsJH4",
      "include_colab_link": true
    },
    "kernelspec": {
      "name": "python3",
      "display_name": "Python 3"
    },
    "language_info": {
      "name": "python"
    },
    "accelerator": "GPU"
  },
  "cells": [
    {
      "cell_type": "markdown",
      "metadata": {
        "id": "view-in-github",
        "colab_type": "text"
      },
      "source": [
        "<a href=\"https://colab.research.google.com/github/Hesham-14/Neural-Network-Projects/blob/main/IMDB_Dataset.ipynb\" target=\"_parent\"><img src=\"https://colab.research.google.com/assets/colab-badge.svg\" alt=\"Open In Colab\"/></a>"
      ]
    },
    {
      "cell_type": "code",
      "metadata": {
        "id": "9Zs1dIACmkfh",
        "colab": {
          "base_uri": "https://localhost:8080/"
        },
        "outputId": "20cfc866-7fe9-455a-f72b-d7bba379fc6f"
      },
      "source": [
        "from keras.datasets import imdb\n",
        "from keras.models import Sequential\n",
        "from keras.layers import GRU, LSTM, Activation\n",
        "from keras.preprocessing.sequence import pad_sequences\n",
        "\n",
        "num_words = 30000\n",
        "max_len = 300\n",
        "\n",
        "(x_train, y_train), (x_test, y_test) = imdb.load_data(num_words = num_words)\n",
        "\n",
        "# pad sequences with zeros\n",
        "# padding parameter is set to 'post' => 0's are appended to end of sequences\n",
        "\n",
        "x_train = pad_sequences(x_train, maxlen=max_len, padding='post')\n",
        "x_test = pad_sequences(x_test, maxlen=max_len, padding='post')\n",
        "\n",
        "x_train = x_train.reshape(x_train.shape + (1,))\n",
        "x_test = x_test.reshape(x_test.shape + (1,))\n",
        "\n",
        "def gru_model():\n",
        "  model = Sequential()\n",
        "  model.add(GRU(50, input_shape = (300, 1), return_sequences=True))\n",
        "  model.add(GRU(1, return_sequences=False))\n",
        "  model.add(Activation('sigmoid'))\n",
        "\n",
        "  model.compile(loss='binary_crossentropy', optimizer= 'adam', metrics=['accuracy'])\n",
        "  return model\n",
        "\n",
        "model = gru_model()\n",
        "\n",
        "#%%time\n",
        "model.fit(x_train, y_train, batch_size= 100, epochs= 10 , verbose= 0)\n",
        "\n",
        "score = model.evaluate(x_test, y_test, verbose=0)\n",
        "print(\"Accuarcy: %.2f%%\" % (score[1]*100))"
      ],
      "execution_count": 3,
      "outputs": [
        {
          "output_type": "stream",
          "name": "stdout",
          "text": [
            "Accuarcy: 51.90%\n"
          ]
        }
      ]
    }
  ]
}