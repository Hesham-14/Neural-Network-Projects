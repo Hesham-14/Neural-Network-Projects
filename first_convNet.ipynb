{
  "nbformat": 4,
  "nbformat_minor": 0,
  "metadata": {
    "colab": {
      "name": "first_convNet.ipynb",
      "provenance": [],
      "collapsed_sections": [],
      "authorship_tag": "ABX9TyPyi2ZE2EFuYsGYRh8O9iwK",
      "include_colab_link": true
    },
    "kernelspec": {
      "name": "python3",
      "display_name": "Python 3"
    },
    "language_info": {
      "name": "python"
    },
    "accelerator": "GPU"
  },
  "cells": [
    {
      "cell_type": "markdown",
      "metadata": {
        "id": "view-in-github",
        "colab_type": "text"
      },
      "source": [
        "<a href=\"https://colab.research.google.com/github/Hesham-14/Neural-Network-Projects/blob/main/first_convNet.ipynb\" target=\"_parent\"><img src=\"https://colab.research.google.com/assets/colab-badge.svg\" alt=\"Open In Colab\"/></a>"
      ]
    },
    {
      "cell_type": "code",
      "metadata": {
        "id": "ud8M7oLPc4HR"
      },
      "source": [
        "from __future__ import print_function\n",
        "import tensorflow as tf\n",
        "import keras\n",
        "from keras.datasets import mnist\n",
        "from keras.models import Sequential\n",
        "from keras.layers import Dense, Dropout, Flatten\n",
        "from keras.layers import Conv2D, MaxPool2D\n",
        "from tensorflow.keras.utils import to_categorical\n",
        "from keras import backend as k\n",
        "from tensorflow.keras.optimizers import SGD"
      ],
      "execution_count": null,
      "outputs": []
    },
    {
      "cell_type": "code",
      "metadata": {
        "id": "vAHL4ggJncHV"
      },
      "source": [
        "batch_size = 128\n",
        "num_classes = 10\n",
        "epochs = 12"
      ],
      "execution_count": null,
      "outputs": []
    },
    {
      "cell_type": "code",
      "metadata": {
        "id": "N2u2iZsUnix_"
      },
      "source": [
        "img_rows, img_clos = 28,28\n",
        "# x For imeges || u For labels\n",
        "(x_train, y_train),(x_test, y_test) = mnist.load_data()"
      ],
      "execution_count": null,
      "outputs": []
    },
    {
      "cell_type": "code",
      "metadata": {
        "colab": {
          "base_uri": "https://localhost:8080/"
        },
        "id": "dlbvAO_loiXJ",
        "outputId": "bd347a1d-6d91-42ff-db67-44c76ee4b7e7"
      },
      "source": [
        "x_train=x_train.reshape(60000, 28, 28, 1)\n",
        "x_test=x_test.reshape(10000, 28, 28, 1)\n",
        "  \n",
        "x_train=x_train/255.0\n",
        "x_test=x_test/255.0\n",
        "print('x_train shape: ', x_train.shape)\n",
        "print('x_test shape: ', x_test.shape)\n",
        "#convert class vectors to binary class matrics \n",
        "y_train= tf.keras.utils.to_categorical(y_train, num_classes)\n",
        "y_test= tf.keras.utils.to_categorical(y_test, num_classes)"
      ],
      "execution_count": null,
      "outputs": [
        {
          "output_type": "stream",
          "name": "stdout",
          "text": [
            "x_train shape:  (60000, 28, 28, 1)\n",
            "x_test shape:  (10000, 28, 28, 1)\n"
          ]
        }
      ]
    },
    {
      "cell_type": "code",
      "metadata": {
        "id": "CqEetFTwvsOn",
        "colab": {
          "base_uri": "https://localhost:8080/"
        },
        "outputId": "17bfd8ed-73d7-47d9-d003-5084bc115a94"
      },
      "source": [
        "model = Sequential()\n",
        "model.add(Conv2D(32, kernel_size=(3,3), \n",
        "                 activation='relu',\n",
        "                 input_shape = (28,28,1)))\n",
        "model.add(Conv2D(64,(3,3), activation='relu'))\n",
        "#print(model.summary())\n",
        "model.add(MaxPool2D(pool_size = (2, 2)))\n",
        "model.add(Flatten())\n",
        "model.add(Dense(100, activation='relu'))\n",
        "model.add(Dense(num_classes, activation='softmax'))\n",
        "opt = SGD(lr=0.01, momentum=0.9)\n",
        "model.summary()"
      ],
      "execution_count": null,
      "outputs": [
        {
          "output_type": "stream",
          "name": "stdout",
          "text": [
            "Model: \"sequential\"\n",
            "_________________________________________________________________\n",
            "Layer (type)                 Output Shape              Param #   \n",
            "=================================================================\n",
            "conv2d (Conv2D)              (None, 26, 26, 32)        320       \n",
            "_________________________________________________________________\n",
            "conv2d_1 (Conv2D)            (None, 24, 24, 64)        18496     \n",
            "_________________________________________________________________\n",
            "max_pooling2d (MaxPooling2D) (None, 12, 12, 64)        0         \n",
            "_________________________________________________________________\n",
            "flatten (Flatten)            (None, 9216)              0         \n",
            "_________________________________________________________________\n",
            "dense (Dense)                (None, 100)               921700    \n",
            "_________________________________________________________________\n",
            "dense_1 (Dense)              (None, 10)                1010      \n",
            "=================================================================\n",
            "Total params: 941,526\n",
            "Trainable params: 941,526\n",
            "Non-trainable params: 0\n",
            "_________________________________________________________________\n"
          ]
        },
        {
          "output_type": "stream",
          "name": "stderr",
          "text": [
            "/usr/local/lib/python3.7/dist-packages/keras/optimizer_v2/optimizer_v2.py:356: UserWarning: The `lr` argument is deprecated, use `learning_rate` instead.\n",
            "  \"The `lr` argument is deprecated, use `learning_rate` instead.\")\n"
          ]
        }
      ]
    },
    {
      "cell_type": "code",
      "metadata": {
        "id": "1ds61kONKFyk",
        "colab": {
          "base_uri": "https://localhost:8080/"
        },
        "outputId": "55cdbb21-7936-439f-d8b6-489ef2e9b29e"
      },
      "source": [
        "from tensorflow.keras.optimizers import Adadelta\n",
        "model.compile( loss=keras.losses.categorical_crossentropy,\n",
        "              optimizer= opt,\n",
        "              metrics=['accuracy']\n",
        ")\n",
        "\n",
        "model.fit(x_train,y_train,\n",
        "           batch_size=32,\n",
        "            epochs=10,\n",
        "            verbose=1,\n",
        "            validation_data=(x_test, y_test)\n",
        "            )"
      ],
      "execution_count": null,
      "outputs": [
        {
          "output_type": "stream",
          "name": "stdout",
          "text": [
            "Epoch 1/10\n",
            "1875/1875 [==============================] - 15s 8ms/step - loss: 0.0599 - accuracy: 0.9819 - val_loss: 0.0427 - val_accuracy: 0.9860\n",
            "Epoch 2/10\n",
            "1875/1875 [==============================] - 16s 9ms/step - loss: 0.0336 - accuracy: 0.9895 - val_loss: 0.0394 - val_accuracy: 0.9887\n",
            "Epoch 3/10\n",
            "1875/1875 [==============================] - 18s 10ms/step - loss: 0.0234 - accuracy: 0.9925 - val_loss: 0.0396 - val_accuracy: 0.9867\n",
            "Epoch 4/10\n",
            "1875/1875 [==============================] - 18s 10ms/step - loss: 0.0158 - accuracy: 0.9951 - val_loss: 0.0371 - val_accuracy: 0.9879\n",
            "Epoch 5/10\n",
            "1875/1875 [==============================] - 18s 10ms/step - loss: 0.0106 - accuracy: 0.9966 - val_loss: 0.0412 - val_accuracy: 0.9884\n",
            "Epoch 6/10\n",
            "1875/1875 [==============================] - 18s 10ms/step - loss: 0.0080 - accuracy: 0.9974 - val_loss: 0.0419 - val_accuracy: 0.9884\n",
            "Epoch 7/10\n",
            "1875/1875 [==============================] - 18s 10ms/step - loss: 0.0049 - accuracy: 0.9986 - val_loss: 0.0482 - val_accuracy: 0.9869\n",
            "Epoch 8/10\n",
            "1875/1875 [==============================] - 18s 10ms/step - loss: 0.0038 - accuracy: 0.9989 - val_loss: 0.0452 - val_accuracy: 0.9891\n",
            "Epoch 9/10\n",
            "1875/1875 [==============================] - 18s 10ms/step - loss: 0.0030 - accuracy: 0.9992 - val_loss: 0.0409 - val_accuracy: 0.9905\n",
            "Epoch 10/10\n",
            "1875/1875 [==============================] - 19s 10ms/step - loss: 0.0019 - accuracy: 0.9995 - val_loss: 0.0418 - val_accuracy: 0.9902\n"
          ]
        },
        {
          "output_type": "execute_result",
          "data": {
            "text/plain": [
              "<keras.callbacks.History at 0x7f624f736750>"
            ]
          },
          "metadata": {},
          "execution_count": 8
        }
      ]
    },
    {
      "cell_type": "code",
      "metadata": {
        "colab": {
          "base_uri": "https://localhost:8080/"
        },
        "id": "ky-b4Q4TAi7W",
        "outputId": "fdfd0108-5b9e-441c-f790-80124a0391fc"
      },
      "source": [
        "score = model.evaluate(x_test,y_test, verbose=0)\n",
        "print('Test loss= ', score[0])\n",
        "print('test Accuracy= ', score[1])"
      ],
      "execution_count": null,
      "outputs": [
        {
          "output_type": "stream",
          "name": "stdout",
          "text": [
            "Test loss=  0.04179408401250839\n",
            "test Accuracy=  0.9901999831199646\n"
          ]
        }
      ]
    },
    {
      "cell_type": "code",
      "metadata": {
        "colab": {
          "base_uri": "https://localhost:8080/"
        },
        "id": "RiRMl-iCef0a",
        "outputId": "c1f51bc3-7024-446c-ab24-ac6f208c6dd3"
      },
      "source": [
        "model.save(\"final_model.h5\")\n",
        "print(\"Saved !\")"
      ],
      "execution_count": null,
      "outputs": [
        {
          "output_type": "stream",
          "name": "stdout",
          "text": [
            "Saved !\n"
          ]
        }
      ]
    },
    {
      "cell_type": "code",
      "metadata": {
        "colab": {
          "base_uri": "https://localhost:8080/"
        },
        "id": "z7T-GF5_exR_",
        "outputId": "e6efea65-ff29-41a7-c8de-b71374dd1d6c"
      },
      "source": [
        "# making a prediction for a new image.\n",
        "from keras.preprocessing.image import load_img\n",
        "from keras.preprocessing.image import img_to_array\n",
        "from keras.models import load_model\n",
        "\n",
        "#load and prepare the image.\n",
        "def load_image(filename):\n",
        "  #convert the image\n",
        "  img = load_img(filename, grayscale=True, target_size=(28,28))\n",
        "  #convert to array \n",
        "  img = img_to_array(img)\n",
        "\n",
        "  #reshapping into single sample with one channel\n",
        "  img = img.reshape(1,28,28,1)\n",
        "  \n",
        "  #preparing to pixel data\n",
        "  img = img.astype('float32')\n",
        "  img = img/255.0\n",
        "  return img\n",
        "\n",
        "import numpy as np\n",
        "\n",
        "#running an example.\n",
        "def run_example():\n",
        "  #loading img\n",
        "  img = load_image('/content/sample_image-300x300.webp')\n",
        "  #loading the model\n",
        "  model = load_model('/content/model.h5')\n",
        "  #Predict the class\n",
        "  result = np.argmax(model.predict(img), axis=-1)\n",
        "  print(result[0])\n",
        "\n",
        "# Entry point, run example\n",
        "run_example()"
      ],
      "execution_count": null,
      "outputs": [
        {
          "output_type": "stream",
          "name": "stderr",
          "text": [
            "/usr/local/lib/python3.7/dist-packages/keras_preprocessing/image/utils.py:107: UserWarning: grayscale is deprecated. Please use color_mode = \"grayscale\"\n",
            "  warnings.warn('grayscale is deprecated. Please use '\n"
          ]
        },
        {
          "output_type": "stream",
          "name": "stdout",
          "text": [
            "WARNING:tensorflow:6 out of the last 6 calls to <function Model.make_predict_function.<locals>.predict_function at 0x7f624eef2560> triggered tf.function retracing. Tracing is expensive and the excessive number of tracings could be due to (1) creating @tf.function repeatedly in a loop, (2) passing tensors with different shapes, (3) passing Python objects instead of tensors. For (1), please define your @tf.function outside of the loop. For (2), @tf.function has experimental_relax_shapes=True option that relaxes argument shapes that can avoid unnecessary retracing. For (3), please refer to https://www.tensorflow.org/guide/function#controlling_retracing and https://www.tensorflow.org/api_docs/python/tf/function for  more details.\n",
            "2\n"
          ]
        }
      ]
    }
  ]
}